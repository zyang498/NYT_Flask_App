{
 "cells": [
  {
   "cell_type": "code",
   "execution_count": 2,
   "id": "e437b22a",
   "metadata": {},
   "outputs": [],
   "source": [
    "import NYTsecrets\n",
    "from bs4 import BeautifulSoup\n",
    "import json\n",
    "import urllib3"
   ]
  },
  {
   "cell_type": "code",
   "execution_count": 3,
   "id": "782171c1",
   "metadata": {},
   "outputs": [],
   "source": [
    "url = f\"https://api.nytimes.com/svc/topstories/v2/technology.json?api-key={NYTsecrets.api_key}\"\n",
    "http = urllib3.PoolManager()\n",
    "response = http.request(\"GET\", url)\n",
    "html_doc = response.data.decode('utf-8')\n",
    "soup = BeautifulSoup(html_doc)"
   ]
  },
  {
   "cell_type": "code",
   "execution_count": 27,
   "id": "ed02c53b",
   "metadata": {},
   "outputs": [
    {
     "data": {
      "text/plain": [
       "'FTX Founder Sam Bankman-Fried Is Said to Face Market Manipulation Inquiry'"
      ]
     },
     "execution_count": 27,
     "metadata": {},
     "output_type": "execute_result"
    }
   ],
   "source": [
    "json_object = json.loads(soup.p.text)\n",
    "json_object['results'][0]['title']"
   ]
  },
  {
   "cell_type": "code",
   "execution_count": null,
   "id": "d531021c",
   "metadata": {},
   "outputs": [],
   "source": []
  }
 ],
 "metadata": {
  "kernelspec": {
   "display_name": "Python 3",
   "language": "python",
   "name": "python3"
  },
  "language_info": {
   "codemirror_mode": {
    "name": "ipython",
    "version": 3
   },
   "file_extension": ".py",
   "mimetype": "text/x-python",
   "name": "python",
   "nbconvert_exporter": "python",
   "pygments_lexer": "ipython3",
   "version": "3.8.8"
  }
 },
 "nbformat": 4,
 "nbformat_minor": 5
}
